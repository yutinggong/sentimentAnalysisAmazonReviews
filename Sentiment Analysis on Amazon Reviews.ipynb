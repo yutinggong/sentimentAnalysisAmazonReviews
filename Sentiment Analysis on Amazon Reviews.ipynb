{
 "cells": [
  {
   "cell_type": "markdown",
   "metadata": {},
   "source": [
    "# Sentiment Analysis on Amazon Product Reviews of Sensitive Toothpastes\n",
    "- Part 1. Data Exploration and Preparation\n",
    "- Part 2. Unsupervised Sentiment Analysis: TextBlob, Vader\n",
    "- Part 3. Supervised Sentiment Analysis: Word2Vec"
   ]
  },
  {
   "cell_type": "markdown",
   "metadata": {},
   "source": [
    "## Part 1. Data Exploration and Preparation"
   ]
  },
  {
   "cell_type": "code",
   "execution_count": 375,
   "metadata": {},
   "outputs": [
    {
     "name": "stderr",
     "output_type": "stream",
     "text": [
      "[nltk_data] Downloading package punkt to\n",
      "[nltk_data]     C:\\Users\\Yuting.Gong\\AppData\\Roaming\\nltk_data...\n",
      "[nltk_data]   Package punkt is already up-to-date!\n"
     ]
    },
    {
     "data": {
      "text/plain": [
       "True"
      ]
     },
     "execution_count": 375,
     "metadata": {},
     "output_type": "execute_result"
    }
   ],
   "source": [
    "import gensim\n",
    "from gensim.models import Word2Vec\n",
    "\n",
    "from sklearn.model_selection import cross_val_score, GridSearchCV\n",
    "from sklearn.svm import SVC\n",
    "from xgboost import XGBClassifier\n",
    "from sklearn.model_selection import train_test_split\n",
    "from sklearn.ensemble import RandomForestClassifier\n",
    "from sklearn.metrics import accuracy_score\n",
    "\n",
    "from textblob import TextBlob    # import textblob packages, nlp\n",
    "from textblob.sentiments import NaiveBayesAnalyzer\n",
    "import pandas as pd\n",
    "import matplotlib.pyplot as plt\n",
    "import numpy as np\n",
    "\n",
    "from vaderSentiment.vaderSentiment import SentimentIntensityAnalyzer\n",
    "\n",
    "# import natural language toolkit\n",
    "import nltk\n",
    "nltk.download('punkt')"
   ]
  },
  {
   "cell_type": "markdown",
   "metadata": {},
   "source": [
    "### Load Data"
   ]
  },
  {
   "cell_type": "code",
   "execution_count": 250,
   "metadata": {
    "scrolled": true
   },
   "outputs": [
    {
     "data": {
      "text/html": [
       "<div>\n",
       "<style scoped>\n",
       "    .dataframe tbody tr th:only-of-type {\n",
       "        vertical-align: middle;\n",
       "    }\n",
       "\n",
       "    .dataframe tbody tr th {\n",
       "        vertical-align: top;\n",
       "    }\n",
       "\n",
       "    .dataframe thead th {\n",
       "        text-align: right;\n",
       "    }\n",
       "</style>\n",
       "<table border=\"1\" class=\"dataframe\">\n",
       "  <thead>\n",
       "    <tr style=\"text-align: right;\">\n",
       "      <th></th>\n",
       "      <th>average_product_rating</th>\n",
       "      <th>product_title</th>\n",
       "      <th>product_url</th>\n",
       "      <th>review_date</th>\n",
       "      <th>review_id</th>\n",
       "      <th>review_rating</th>\n",
       "      <th>review_title</th>\n",
       "      <th>sku</th>\n",
       "      <th>upvotes</th>\n",
       "      <th>url</th>\n",
       "      <th>Sensitive</th>\n",
       "      <th>Brand</th>\n",
       "      <th>Sub-Brand</th>\n",
       "      <th>Ingredient</th>\n",
       "      <th>Category</th>\n",
       "      <th>review_text</th>\n",
       "    </tr>\n",
       "  </thead>\n",
       "  <tbody>\n",
       "    <tr>\n",
       "      <th>0</th>\n",
       "      <td>4.3</td>\n",
       "      <td>Colgate Sensitive Maximum Strength Toothpaste,...</td>\n",
       "      <td>https://www.amazon.com/Colgate-Sensitive-Stren...</td>\n",
       "      <td>May 8, 2017</td>\n",
       "      <td>R388T3PPGR3KTV</td>\n",
       "      <td>2</td>\n",
       "      <td>Soso</td>\n",
       "      <td>B0053XLIN2</td>\n",
       "      <td>0.0</td>\n",
       "      <td>https://www.amazon.com/gp/customer-reviews/R38...</td>\n",
       "      <td>1.0</td>\n",
       "      <td>Colgate</td>\n",
       "      <td>Sensitive Maximum</td>\n",
       "      <td>0</td>\n",
       "      <td>TP</td>\n",
       "      <td>Just clean,I want white product,it can't white...</td>\n",
       "    </tr>\n",
       "    <tr>\n",
       "      <th>1</th>\n",
       "      <td>4.3</td>\n",
       "      <td>Colgate Sensitive Maximum Strength Toothpaste,...</td>\n",
       "      <td>https://www.amazon.com/Colgate-Sensitive-Stren...</td>\n",
       "      <td>April 29, 2017</td>\n",
       "      <td>R3CSQJHAH3D8PQ</td>\n",
       "      <td>5</td>\n",
       "      <td>Five Stars</td>\n",
       "      <td>B0053XLIN2</td>\n",
       "      <td>0.0</td>\n",
       "      <td>https://www.amazon.com/gp/customer-reviews/R3C...</td>\n",
       "      <td>1.0</td>\n",
       "      <td>Colgate</td>\n",
       "      <td>Sensitive Maximum</td>\n",
       "      <td>0</td>\n",
       "      <td>TP</td>\n",
       "      <td>Great</td>\n",
       "    </tr>\n",
       "    <tr>\n",
       "      <th>2</th>\n",
       "      <td>4.3</td>\n",
       "      <td>Colgate Sensitive Maximum Strength Toothpaste,...</td>\n",
       "      <td>https://www.amazon.com/Colgate-Sensitive-Stren...</td>\n",
       "      <td>April 26, 2017</td>\n",
       "      <td>R2PVX8G4WVQYTI</td>\n",
       "      <td>5</td>\n",
       "      <td>Five Stars</td>\n",
       "      <td>B0053XLIN2</td>\n",
       "      <td>0.0</td>\n",
       "      <td>https://www.amazon.com/gp/customer-reviews/R2P...</td>\n",
       "      <td>1.0</td>\n",
       "      <td>Colgate</td>\n",
       "      <td>Sensitive Maximum</td>\n",
       "      <td>0</td>\n",
       "      <td>TP</td>\n",
       "      <td>this works great for my sensitive teeth!</td>\n",
       "    </tr>\n",
       "    <tr>\n",
       "      <th>3</th>\n",
       "      <td>4.3</td>\n",
       "      <td>Colgate Sensitive Maximum Strength Toothpaste,...</td>\n",
       "      <td>https://www.amazon.com/Colgate-Sensitive-Stren...</td>\n",
       "      <td>April 25, 2017</td>\n",
       "      <td>RBOXB3P3O6JAL</td>\n",
       "      <td>4</td>\n",
       "      <td>Four Stars</td>\n",
       "      <td>B0053XLIN2</td>\n",
       "      <td>0.0</td>\n",
       "      <td>https://www.amazon.com/gp/customer-reviews/RBO...</td>\n",
       "      <td>1.0</td>\n",
       "      <td>Colgate</td>\n",
       "      <td>Sensitive Maximum</td>\n",
       "      <td>0</td>\n",
       "      <td>TP</td>\n",
       "      <td>I like it</td>\n",
       "    </tr>\n",
       "    <tr>\n",
       "      <th>4</th>\n",
       "      <td>4.3</td>\n",
       "      <td>Colgate Sensitive Maximum Strength Toothpaste,...</td>\n",
       "      <td>https://www.amazon.com/Colgate-Sensitive-Stren...</td>\n",
       "      <td>April 20, 2017</td>\n",
       "      <td>R2YQSP98YTZ457</td>\n",
       "      <td>5</td>\n",
       "      <td>Five Stars</td>\n",
       "      <td>B0053XLIN2</td>\n",
       "      <td>0.0</td>\n",
       "      <td>https://www.amazon.com/gp/customer-reviews/R2Y...</td>\n",
       "      <td>1.0</td>\n",
       "      <td>Colgate</td>\n",
       "      <td>Sensitive Maximum</td>\n",
       "      <td>0</td>\n",
       "      <td>TP</td>\n",
       "      <td>Nice</td>\n",
       "    </tr>\n",
       "  </tbody>\n",
       "</table>\n",
       "</div>"
      ],
      "text/plain": [
       "   average_product_rating                                      product_title  \\\n",
       "0                     4.3  Colgate Sensitive Maximum Strength Toothpaste,...   \n",
       "1                     4.3  Colgate Sensitive Maximum Strength Toothpaste,...   \n",
       "2                     4.3  Colgate Sensitive Maximum Strength Toothpaste,...   \n",
       "3                     4.3  Colgate Sensitive Maximum Strength Toothpaste,...   \n",
       "4                     4.3  Colgate Sensitive Maximum Strength Toothpaste,...   \n",
       "\n",
       "                                         product_url     review_date  \\\n",
       "0  https://www.amazon.com/Colgate-Sensitive-Stren...     May 8, 2017   \n",
       "1  https://www.amazon.com/Colgate-Sensitive-Stren...  April 29, 2017   \n",
       "2  https://www.amazon.com/Colgate-Sensitive-Stren...  April 26, 2017   \n",
       "3  https://www.amazon.com/Colgate-Sensitive-Stren...  April 25, 2017   \n",
       "4  https://www.amazon.com/Colgate-Sensitive-Stren...  April 20, 2017   \n",
       "\n",
       "        review_id  review_rating review_title         sku  upvotes  \\\n",
       "0  R388T3PPGR3KTV              2         Soso  B0053XLIN2      0.0   \n",
       "1  R3CSQJHAH3D8PQ              5   Five Stars  B0053XLIN2      0.0   \n",
       "2  R2PVX8G4WVQYTI              5   Five Stars  B0053XLIN2      0.0   \n",
       "3   RBOXB3P3O6JAL              4   Four Stars  B0053XLIN2      0.0   \n",
       "4  R2YQSP98YTZ457              5   Five Stars  B0053XLIN2      0.0   \n",
       "\n",
       "                                                 url  Sensitive    Brand  \\\n",
       "0  https://www.amazon.com/gp/customer-reviews/R38...        1.0  Colgate   \n",
       "1  https://www.amazon.com/gp/customer-reviews/R3C...        1.0  Colgate   \n",
       "2  https://www.amazon.com/gp/customer-reviews/R2P...        1.0  Colgate   \n",
       "3  https://www.amazon.com/gp/customer-reviews/RBO...        1.0  Colgate   \n",
       "4  https://www.amazon.com/gp/customer-reviews/R2Y...        1.0  Colgate   \n",
       "\n",
       "           Sub-Brand Ingredient Category  \\\n",
       "0  Sensitive Maximum          0       TP   \n",
       "1  Sensitive Maximum          0       TP   \n",
       "2  Sensitive Maximum          0       TP   \n",
       "3  Sensitive Maximum          0       TP   \n",
       "4  Sensitive Maximum          0       TP   \n",
       "\n",
       "                                         review_text  \n",
       "0  Just clean,I want white product,it can't white...  \n",
       "1                                              Great  \n",
       "2           this works great for my sensitive teeth!  \n",
       "3                                          I like it  \n",
       "4                                               Nice  "
      ]
     },
     "execution_count": 250,
     "metadata": {},
     "output_type": "execute_result"
    }
   ],
   "source": [
    "df = pd.read_csv(\"C:/Users/Yuting.Gong/Desktop/CodeBox/data/AmaonProductReview/amazon_reviews_US_forWeb.csv\", dtype={'review_text': str})\n",
    "df.head()"
   ]
  },
  {
   "cell_type": "markdown",
   "metadata": {},
   "source": [
    "The text column is \"review_text\". The target column is \"review_rating\"."
   ]
  },
  {
   "cell_type": "code",
   "execution_count": 218,
   "metadata": {},
   "outputs": [],
   "source": [
    "column = \"review_text\""
   ]
  },
  {
   "cell_type": "markdown",
   "metadata": {},
   "source": [
    "### Data Summary"
   ]
  },
  {
   "cell_type": "code",
   "execution_count": 251,
   "metadata": {},
   "outputs": [
    {
     "name": "stdout",
     "output_type": "stream",
     "text": [
      "Summary statistics of numerical data\n",
      "       average_product_rating  review_rating       upvotes     Sensitive\n",
      "count            25716.000000   25716.000000  22785.000000  25630.000000\n",
      "mean                 4.363354       4.400101      0.879175      0.229926\n",
      "std                  0.314337       1.099385     11.099193      0.420793\n",
      "min                  1.000000       1.000000      0.000000      0.000000\n",
      "25%                  4.200000       4.000000      0.000000      0.000000\n",
      "50%                  4.500000       5.000000      0.000000      0.000000\n",
      "75%                  4.600000       5.000000      0.000000      0.000000\n",
      "max                  5.000000       5.000000    815.000000      1.000000\n",
      "\n",
      "Total number of reviews 25716\n",
      "\n",
      "Ratio of Positive vs. Neutral vs. Negative Review Sentiment : (all in percentage)\n",
      "Positive    85.262094\n",
      "Negative     8.481101\n",
      "Neutral      6.256805\n",
      "Name: rating_sentiment, dtype: float64\n"
     ]
    }
   ],
   "source": [
    "print(\"Summary statistics of numerical data\")\n",
    "print(df.describe())\n",
    "\n",
    "print(\"\\nTotal number of reviews\", df.shape[0])\n",
    "\n",
    "def rating_sentiment(rating):\n",
    "    if rating >= 4:\n",
    "        return \"Positive\"\n",
    "    elif rating == 3:\n",
    "        return \"Neutral\"\n",
    "    else:\n",
    "        return \"Negative\"\n",
    "df[\"rating_sentiment\"] = df[\"review_rating\"].apply(rating_sentiment)\n",
    "print(\"\\nRatio of Positive vs. Neutral vs. Negative Review Sentiment : (all in percentage)\")\n",
    "print(df[\"rating_sentiment\"].value_counts()/df.shape[0] * 100)"
   ]
  },
  {
   "cell_type": "markdown",
   "metadata": {},
   "source": [
    "### Data Visualization\n",
    "\n",
    "#### Distribution of Review Rating\n",
    "We clearly have a lot more positive ratings than negative ones."
   ]
  },
  {
   "cell_type": "code",
   "execution_count": 252,
   "metadata": {
    "scrolled": false
   },
   "outputs": [
    {
     "data": {
      "text/plain": [
       "Text(0, 0.5, 'Count')"
      ]
     },
     "execution_count": 252,
     "metadata": {},
     "output_type": "execute_result"
    },
    {
     "data": {
      "image/png": "[encoded data removed]",
      "text/plain": [
       "<Figure size 720x432 with 1 Axes>"
      ]
     },
     "metadata": {
      "needs_background": "light"
     },
     "output_type": "display_data"
    }
   ],
   "source": [
    "plt.figure(figsize = (10,6))\n",
    "df[\"review_rating\"].value_counts().sort_index().plot(kind='bar')\n",
    "plt.title('Distribution of Review Rating')\n",
    "plt.xlabel('Review Rating')\n",
    "plt.ylabel('Count')"
   ]
  },
  {
   "cell_type": "code",
   "execution_count": 253,
   "metadata": {
    "scrolled": false
   },
   "outputs": [
    {
     "data": {
      "text/plain": [
       "Text(0, 0.5, 'Count')"
      ]
     },
     "execution_count": 253,
     "metadata": {},
     "output_type": "execute_result"
    },
    {
     "data": {
      "image/png": "[encoded data removed]",
      "text/plain": [
       "<Figure size 720x432 with 1 Axes>"
      ]
     },
     "metadata": {
      "needs_background": "light"
     },
     "output_type": "display_data"
    }
   ],
   "source": [
    "# number of reviews for each brands\n",
    "plt.figure(figsize = (10,6))\n",
    "df[\"Brand\"].value_counts().plot(kind='bar')\n",
    "plt.title('Number of reviews for each brands')\n",
    "plt.xlabel('Brand')\n",
    "plt.ylabel('Count')"
   ]
  },
  {
   "cell_type": "code",
   "execution_count": 254,
   "metadata": {},
   "outputs": [
    {
     "data": {
      "text/plain": [
       "Text(0, 0.5, 'Count')"
      ]
     },
     "execution_count": 254,
     "metadata": {},
     "output_type": "execute_result"
    },
    {
     "data": {
      "image/png": "[encoded data removed]",
      "text/plain": [
       "<Figure size 720x432 with 1 Axes>"
      ]
     },
     "metadata": {
      "needs_background": "light"
     },
     "output_type": "display_data"
    }
   ],
   "source": [
    "# Review Length\n",
    "length = df[\"review_text\"].dropna().apply(lambda x: len(x))\n",
    "plt.figure(figsize = (10,6))\n",
    "length.loc[length < 2000].hist()\n",
    "plt.title(\"Distribution of Review Length\")\n",
    "plt.xlabel('Review length by number of characteres')\n",
    "plt.ylabel('Count')"
   ]
  },
  {
   "cell_type": "markdown",
   "metadata": {},
   "source": [
    "### Data Preparation\n",
    "\n",
    "One of the major problem with the data are duplications. Some reviews got duplicated for the same products but in different packages or sizes. During the unsupervised sentiment analysis, duplicates do not influence analysis. However, duplications will be a problem during supervised sentiment analysis as duplications will influence Word2Vec model building. Thus, I will prepare two sets of data. In the unsupervised sentiment analysis, I will only remove NA. In the supervised sentiment analysis, I will keep the first occurance of each reviews, and remove the rest of duplicates. If reviews are duplicated for different products, I will treat it as wrong data and remove them as well. "
   ]
  },
  {
   "cell_type": "code",
   "execution_count": 255,
   "metadata": {},
   "outputs": [],
   "source": [
    "# Drop missing reviews\n",
    "df = df.dropna(subset= [column])\n",
    "\n",
    "# For supervised learning, drop duplicates\n",
    "dup = df[df.duplicated(subset = \"review_id\", keep = False)].copy()\n",
    "\n",
    "# remove 129 reviews where the same review_id have different sub-brands\n",
    "a = pd.DataFrame(dup.groupby([\"review_id\"])[\"Sub-Brand\"].nunique())\n",
    "a = a.reset_index()\n",
    "remove_id = a[a[\"Sub-Brand\"] > 1][\"review_id\"].to_list()\n",
    "newdf = df[~df[\"review_id\"].isin(remove_id)].copy()\n",
    "\n",
    "# remove other duplicates\n",
    "newdf = newdf[newdf.duplicated(subset = [\"review_id\"]) == False]"
   ]
  },
  {
   "cell_type": "code",
   "execution_count": 256,
   "metadata": {
    "scrolled": true
   },
   "outputs": [
    {
     "data": {
      "text/html": [
       "<div>\n",
       "<style scoped>\n",
       "    .dataframe tbody tr th:only-of-type {\n",
       "        vertical-align: middle;\n",
       "    }\n",
       "\n",
       "    .dataframe tbody tr th {\n",
       "        vertical-align: top;\n",
       "    }\n",
       "\n",
       "    .dataframe thead th {\n",
       "        text-align: right;\n",
       "    }\n",
       "</style>\n",
       "<table border=\"1\" class=\"dataframe\">\n",
       "  <thead>\n",
       "    <tr style=\"text-align: right;\">\n",
       "      <th></th>\n",
       "      <th>average_product_rating</th>\n",
       "      <th>product_title</th>\n",
       "      <th>product_url</th>\n",
       "      <th>review_date</th>\n",
       "      <th>review_id</th>\n",
       "      <th>review_rating</th>\n",
       "      <th>review_title</th>\n",
       "      <th>sku</th>\n",
       "      <th>upvotes</th>\n",
       "      <th>url</th>\n",
       "      <th>Sensitive</th>\n",
       "      <th>Brand</th>\n",
       "      <th>Sub-Brand</th>\n",
       "      <th>Ingredient</th>\n",
       "      <th>Category</th>\n",
       "      <th>review_text</th>\n",
       "      <th>rating_sentiment</th>\n",
       "    </tr>\n",
       "  </thead>\n",
       "  <tbody>\n",
       "    <tr>\n",
       "      <th>170</th>\n",
       "      <td>4.5</td>\n",
       "      <td>Colgate Sensitive Prevent and Repair Toothpast...</td>\n",
       "      <td>https://www.amazon.com/Colgate-Sensitive-Preve...</td>\n",
       "      <td>March 16, 2017</td>\n",
       "      <td>R2734240DSBM1J</td>\n",
       "      <td>5</td>\n",
       "      <td>Five Stars</td>\n",
       "      <td>B00IAH0PYG</td>\n",
       "      <td>0.0</td>\n",
       "      <td>https://www.amazon.com/gp/customer-reviews/R27...</td>\n",
       "      <td>1.0</td>\n",
       "      <td>Colgate</td>\n",
       "      <td>CSPR</td>\n",
       "      <td>0</td>\n",
       "      <td>TP</td>\n",
       "      <td>ok</td>\n",
       "      <td>Positive</td>\n",
       "    </tr>\n",
       "    <tr>\n",
       "      <th>171</th>\n",
       "      <td>4.5</td>\n",
       "      <td>Colgate Sensitive Prevent and Repair Toothpast...</td>\n",
       "      <td>https://www.amazon.com/Colgate-Sensitive-Preve...</td>\n",
       "      <td>December 16, 2016</td>\n",
       "      <td>R9156LCLWHDIX</td>\n",
       "      <td>5</td>\n",
       "      <td>Five Stars</td>\n",
       "      <td>B00IAH0PYG</td>\n",
       "      <td>0.0</td>\n",
       "      <td>https://www.amazon.com/gp/customer-reviews/R91...</td>\n",
       "      <td>1.0</td>\n",
       "      <td>Colgate</td>\n",
       "      <td>CSPR</td>\n",
       "      <td>0</td>\n",
       "      <td>TP</td>\n",
       "      <td>Like the clean taste and feel of this toothpaste.</td>\n",
       "      <td>Positive</td>\n",
       "    </tr>\n",
       "    <tr>\n",
       "      <th>172</th>\n",
       "      <td>4.5</td>\n",
       "      <td>Colgate Sensitive Prevent and Repair Toothpast...</td>\n",
       "      <td>https://www.amazon.com/Colgate-Sensitive-Preve...</td>\n",
       "      <td>November 28, 2016</td>\n",
       "      <td>R3PY8VWKVFJQEO</td>\n",
       "      <td>2</td>\n",
       "      <td>Two Stars</td>\n",
       "      <td>B00IAH0PYG</td>\n",
       "      <td>0.0</td>\n",
       "      <td>https://www.amazon.com/gp/customer-reviews/R3P...</td>\n",
       "      <td>1.0</td>\n",
       "      <td>Colgate</td>\n",
       "      <td>CSPR</td>\n",
       "      <td>0</td>\n",
       "      <td>TP</td>\n",
       "      <td>It's just OK - I would rank it behind the othe...</td>\n",
       "      <td>Negative</td>\n",
       "    </tr>\n",
       "    <tr>\n",
       "      <th>173</th>\n",
       "      <td>4.5</td>\n",
       "      <td>Colgate Sensitive Prevent and Repair Toothpast...</td>\n",
       "      <td>https://www.amazon.com/Colgate-Sensitive-Preve...</td>\n",
       "      <td>November 19, 2016</td>\n",
       "      <td>RGQVXWQ6U7UQ5</td>\n",
       "      <td>5</td>\n",
       "      <td>Five Stars</td>\n",
       "      <td>B00IAH0PYG</td>\n",
       "      <td>0.0</td>\n",
       "      <td>https://www.amazon.com/gp/customer-reviews/RGQ...</td>\n",
       "      <td>1.0</td>\n",
       "      <td>Colgate</td>\n",
       "      <td>CSPR</td>\n",
       "      <td>0</td>\n",
       "      <td>TP</td>\n",
       "      <td>Works great</td>\n",
       "      <td>Positive</td>\n",
       "    </tr>\n",
       "    <tr>\n",
       "      <th>174</th>\n",
       "      <td>4.5</td>\n",
       "      <td>Colgate Sensitive Prevent and Repair Toothpast...</td>\n",
       "      <td>https://www.amazon.com/Colgate-Sensitive-Preve...</td>\n",
       "      <td>October 21, 2016</td>\n",
       "      <td>R1C1ZD2HZWWZT1</td>\n",
       "      <td>5</td>\n",
       "      <td>My new favorite toothpaste</td>\n",
       "      <td>B00IAH0PYG</td>\n",
       "      <td>0.0</td>\n",
       "      <td>https://www.amazon.com/gp/customer-reviews/R1C...</td>\n",
       "      <td>1.0</td>\n",
       "      <td>Colgate</td>\n",
       "      <td>CSPR</td>\n",
       "      <td>0</td>\n",
       "      <td>TP</td>\n",
       "      <td>My dentist recommended this toothpaste, and I ...</td>\n",
       "      <td>Positive</td>\n",
       "    </tr>\n",
       "  </tbody>\n",
       "</table>\n",
       "</div>"
      ],
      "text/plain": [
       "     average_product_rating  \\\n",
       "170                     4.5   \n",
       "171                     4.5   \n",
       "172                     4.5   \n",
       "173                     4.5   \n",
       "174                     4.5   \n",
       "\n",
       "                                         product_title  \\\n",
       "170  Colgate Sensitive Prevent and Repair Toothpast...   \n",
       "171  Colgate Sensitive Prevent and Repair Toothpast...   \n",
       "172  Colgate Sensitive Prevent and Repair Toothpast...   \n",
       "173  Colgate Sensitive Prevent and Repair Toothpast...   \n",
       "174  Colgate Sensitive Prevent and Repair Toothpast...   \n",
       "\n",
       "                                           product_url        review_date  \\\n",
       "170  https://www.amazon.com/Colgate-Sensitive-Preve...     March 16, 2017   \n",
       "171  https://www.amazon.com/Colgate-Sensitive-Preve...  December 16, 2016   \n",
       "172  https://www.amazon.com/Colgate-Sensitive-Preve...  November 28, 2016   \n",
       "173  https://www.amazon.com/Colgate-Sensitive-Preve...  November 19, 2016   \n",
       "174  https://www.amazon.com/Colgate-Sensitive-Preve...   October 21, 2016   \n",
       "\n",
       "          review_id  review_rating                review_title         sku  \\\n",
       "170  R2734240DSBM1J              5                  Five Stars  B00IAH0PYG   \n",
       "171   R9156LCLWHDIX              5                  Five Stars  B00IAH0PYG   \n",
       "172  R3PY8VWKVFJQEO              2                   Two Stars  B00IAH0PYG   \n",
       "173   RGQVXWQ6U7UQ5              5                  Five Stars  B00IAH0PYG   \n",
       "174  R1C1ZD2HZWWZT1              5  My new favorite toothpaste  B00IAH0PYG   \n",
       "\n",
       "     upvotes                                                url  Sensitive  \\\n",
       "170      0.0  https://www.amazon.com/gp/customer-reviews/R27...        1.0   \n",
       "171      0.0  https://www.amazon.com/gp/customer-reviews/R91...        1.0   \n",
       "172      0.0  https://www.amazon.com/gp/customer-reviews/R3P...        1.0   \n",
       "173      0.0  https://www.amazon.com/gp/customer-reviews/RGQ...        1.0   \n",
       "174      0.0  https://www.amazon.com/gp/customer-reviews/R1C...        1.0   \n",
       "\n",
       "       Brand Sub-Brand Ingredient Category  \\\n",
       "170  Colgate      CSPR          0       TP   \n",
       "171  Colgate      CSPR          0       TP   \n",
       "172  Colgate      CSPR          0       TP   \n",
       "173  Colgate      CSPR          0       TP   \n",
       "174  Colgate      CSPR          0       TP   \n",
       "\n",
       "                                           review_text rating_sentiment  \n",
       "170                                                 ok         Positive  \n",
       "171  Like the clean taste and feel of this toothpaste.         Positive  \n",
       "172  It's just OK - I would rank it behind the othe...         Negative  \n",
       "173                                        Works great         Positive  \n",
       "174  My dentist recommended this toothpaste, and I ...         Positive  "
      ]
     },
     "execution_count": 256,
     "metadata": {},
     "output_type": "execute_result"
    }
   ],
   "source": [
    "newdf.head()"
   ]
  },
  {
   "cell_type": "code",
   "execution_count": 411,
   "metadata": {},
   "outputs": [
    {
     "data": {
      "text/plain": [
       "(15958, 17)"
      ]
     },
     "execution_count": 411,
     "metadata": {},
     "output_type": "execute_result"
    }
   ],
   "source": [
    "newdf.shape"
   ]
  },
  {
   "cell_type": "markdown",
   "metadata": {},
   "source": [
    "## Part 2. Unsupervised Sentiment Analysis\n",
    "Unlike this amazon product review dataset, often times text reviews do not have sentiment labels. We might obtain the reviews from social media directly about certain products and want to use sentiment analysis to understand consumers' emotions. Here is when unsupervised sentiment analysis comes in. Unsupervised learning involves using a rule-based approach to analyze a comment. There are a few pre-built libraries for sentiment analysis. I picked two major lexical-based approaches: TextBlob and VADER, which are also open source and free. We can compare to see which one is more accurate for our dataset."
   ]
  },
  {
   "cell_type": "markdown",
   "metadata": {},
   "source": [
    "### 1. TextBlob sentiment analysis\n",
    "\n",
    "TextBlob is a Python-based open source NLP library that has a built-in sentiment analysis function. Its sentiment property returns a namedtuple of the form Sentiment(polarity, subjectivity). The polarity score is a float within the range [-1.0, 1.0], with 1 being the most positive and 0 being the most negative. The subjectivity is a float within the range [0.0, 1.0] where 0.0 is very objective and 1.0 is very subjective. Here I focus on getting the polarity which is the sentiment."
   ]
  },
  {
   "cell_type": "code",
   "execution_count": 258,
   "metadata": {},
   "outputs": [],
   "source": [
    "# make functions to detect the polarity\n",
    "def detect_polarity(text):\n",
    "    return TextBlob(text).sentiment.polarity"
   ]
  },
  {
   "cell_type": "code",
   "execution_count": 259,
   "metadata": {},
   "outputs": [],
   "source": [
    "# execution\n",
    "\n",
    "df['textblob_polarity'] = df[column].apply(detect_polarity)"
   ]
  },
  {
   "cell_type": "code",
   "execution_count": 373,
   "metadata": {
    "scrolled": false
   },
   "outputs": [
    {
     "data": {
      "image/png": "[encoded data removed]",
      "text/plain": [
       "<Figure size 720x432 with 1 Axes>"
      ]
     },
     "metadata": {
      "needs_background": "light"
     },
     "output_type": "display_data"
    }
   ],
   "source": [
    "# check the distribution of polarity\n",
    "\n",
    "num_bins = 50\n",
    "plt.figure(figsize=(10,6))\n",
    "n, bins, patches = plt.hist(df.textblob_polarity, num_bins, facecolor='blue', alpha=0.5)\n",
    "plt.xlabel('Polarity')\n",
    "plt.ylabel('Count')\n",
    "plt.title('Histogram of polarity')\n",
    "plt.show();"
   ]
  },
  {
   "cell_type": "markdown",
   "metadata": {},
   "source": [
    "### 2. Vader Sentiment Analysis\n",
    "\n",
    "VADER (Valence Aware Dictionary and sEntiment Reasoner) is a lexicon and rule-based sentiment analysis tool that is specifically attuned to sentiments expressed in social media. A sentiment lexicon is a list of lexical features (e.g., words) which are generally labeled according to their semantic orientation as either positive or negative. VADER not only tells about the Positivity and Negativity score but also tells us about how positive or negative a sentiment is.\n",
    "\n",
    "The Compound score is a metric that calculates the sum of all the lexicon ratings which have been normalized between -1(most extreme negative) and +1 (most extreme positive).\n",
    "\n",
    "Below cut-off is suggested by VADER:\n",
    "\n",
    "positive sentiment : (compound score >= 0.05)\n",
    "\n",
    "neutral sentiment : (compound score > -0.05) and (compound score < 0.05)\n",
    "\n",
    "negative sentiment : (compound score <= -0.05)"
   ]
  },
  {
   "cell_type": "code",
   "execution_count": 263,
   "metadata": {},
   "outputs": [
    {
     "name": "stdout",
     "output_type": "stream",
     "text": [
      "I'm very happy.-------------------------------------------------- {'neg': 0.0, 'neu': 0.334, 'pos': 0.666, 'compound': 0.6115}\n"
     ]
    }
   ],
   "source": [
    "# --- examples -------\n",
    "sentences = [\"I'm very happy.\"]\n",
    "\n",
    "analyzer = SentimentIntensityAnalyzer()\n",
    "\n",
    "for sentence in sentences:\n",
    "    vs = analyzer.polarity_scores(sentence)\n",
    "    print(\"{:-<65} {}\".format(sentence, str(vs)))"
   ]
  },
  {
   "cell_type": "code",
   "execution_count": 262,
   "metadata": {},
   "outputs": [],
   "source": [
    "# create function to use Vader to detect sentiment\n",
    "analyzer = SentimentIntensityAnalyzer()\n",
    "\n",
    "def vader_sentiment(text):\n",
    "    return analyzer.polarity_scores(text)['compound']\n",
    "\n",
    "# execution\n",
    "df['vader_polarity'] = df[column].apply(vader_sentiment)"
   ]
  },
  {
   "cell_type": "code",
   "execution_count": 264,
   "metadata": {},
   "outputs": [
    {
     "data": {
      "image/png": "[encoded data removed]",
      "text/plain": [
       "<Figure size 720x432 with 1 Axes>"
      ]
     },
     "metadata": {
      "needs_background": "light"
     },
     "output_type": "display_data"
    }
   ],
   "source": [
    "# check distribution of vender's sentiment results\n",
    "\n",
    "num_bins = 50\n",
    "plt.figure(figsize=(10,6))\n",
    "n, bins, patches = plt.hist(df.vader_polarity, num_bins, facecolor='blue', alpha=0.5)\n",
    "plt.xlabel('Polarity')\n",
    "plt.ylabel('Count')\n",
    "plt.title('Histogram of polarity')\n",
    "plt.show();"
   ]
  },
  {
   "cell_type": "markdown",
   "metadata": {},
   "source": [
    "## Part 3. Supervised Sentiment Analysis\n",
    "In supervised sentiment analysis, the goal is to use machine learning methods to classify the review_texts into positive, neutral or negative sentiments. In order to feed the review data to a machine learning algorithm, we need to represent the texts in a numercial form. I chose to use Word2Vec word embedding because it is one of the most popular word embeddings to represent document vocabulary. It is capable of capturing context of a word in a document, semantic and syntactic similarity, relation with other words, etc.\n",
    "\n",
    "In addition to being a multi-class classificatin, it is also noteworthy that the amazon data  here is a very imbalanced dataset. About 84% of the reviews are positive while there are only 9% negative reviews and 7% neutral reviews. So to evaluate the accuracy of the classification, I decided to use Precesion, Recall and F1 score instead of just Accuracy.\n",
    "\n",
    "\n",
    "In this part, I will first preprocess the texts and then use gensim library to train a Word2Vec model to create vector word representations. Then, I will calculate the average vector for each reviews and fit them to machine learning algorithms. \n",
    "\n",
    "\n",
    "__Workflow of this part:__\n",
    "- Clean and Normalize reviews (tokenization)\n",
    "- Word2Vec: Preprocess reviews and transform review words to vectors using Word2Vec\n",
    "- Compute average vectors for each reviews\n",
    "- Fit average vectors to supervised learning algorithm "
   ]
  },
  {
   "cell_type": "markdown",
   "metadata": {},
   "source": [
    "#### Clean and Normalize reviews, tokenization\n",
    "We need to remove punctuations and leaves only alphabetic character. We also want to lower the case of words. As to get Word2Vec we need tokens(word), I will also split into words. Also to simply the problem, I will keep only positive and negative sentiments."
   ]
  },
  {
   "cell_type": "code",
   "execution_count": 296,
   "metadata": {},
   "outputs": [],
   "source": [
    "def clean(raw_text):\n",
    "    letters_only = re.sub(\"[^a-zA-Z]\", \" \", raw_text)  # remove non-character\n",
    "    words = letters_only.lower().split() # convert to lower case \n",
    "    \n",
    "    return( \" \".join(words))"
   ]
  },
  {
   "cell_type": "code",
   "execution_count": 390,
   "metadata": {},
   "outputs": [],
   "source": [
    "df2 = newdf[newdf['rating_sentiment'] != \"Neutral\"].copy()"
   ]
  },
  {
   "cell_type": "code",
   "execution_count": 391,
   "metadata": {},
   "outputs": [
    {
     "name": "stdout",
     "output_type": "stream",
     "text": [
      "An example: my dentist recommended this toothpaste and i really like it pleasant flavor and makes your mouth feel clean\n",
      "An example: ['my', 'dentist', 'recommended', 'this', 'toothpaste', 'and', 'i', 'really', 'like', 'it', 'pleasant', 'flavor', 'and', 'makes', 'your', 'mouth', 'feel', 'clean']\n"
     ]
    }
   ],
   "source": [
    "data2 = df2['review_text']\n",
    "clean_review2 = []\n",
    "for document in data2:\n",
    "    clean_review2.append(clean(document))\n",
    "tokens2 = []\n",
    "for review in clean_review2:\n",
    "    tokens2.append(review.split())\n",
    "print(\"An example:\",  clean_review2[4])\n",
    "print(\"An example:\", tokens2[4])"
   ]
  },
  {
   "cell_type": "code",
   "execution_count": null,
   "metadata": {},
   "outputs": [],
   "source": []
  },
  {
   "cell_type": "markdown",
   "metadata": {},
   "source": [
    "### Word2Vec: Preprocess reviews and transform review words to vectors using Word2Vec\n",
    "\n",
    "Gensim’s word2vec expects a sequence of sentences as its input, each one as a list of words. So I will first split reviews into sentences and then tokenize them into words."
   ]
  },
  {
   "cell_type": "markdown",
   "metadata": {},
   "source": [
    "#### Split corpus into individual sentences"
   ]
  },
  {
   "cell_type": "code",
   "execution_count": 304,
   "metadata": {
    "scrolled": true
   },
   "outputs": [
    {
     "name": "stdout",
     "output_type": "stream",
     "text": [
      "Raw Corpus contains 4,067,783 characters\n",
      "We have 52,045 raw sentences\n"
     ]
    }
   ],
   "source": [
    "# Convert all the review text into a long string and print its length\n",
    "raw_corpus = \"\".join(newdf['review_text']+\" \")\n",
    "print(\"Raw Corpus contains {0:,} characters\".format(len(raw_corpus)))\n",
    "\n",
    "tokenizer = nltk.data.load(\"tokenizers/punkt/english.pickle\")\n",
    "# we tokenize the raw string into raw sentences\n",
    "raw_sentences = tokenizer.tokenize(raw_corpus)\n",
    "print(\"We have {0:,} raw sentences\".format(len(raw_sentences)))"
   ]
  },
  {
   "cell_type": "code",
   "execution_count": 305,
   "metadata": {},
   "outputs": [
    {
     "name": "stdout",
     "output_type": "stream",
     "text": [
      "We have 52,045 clean sentences\n",
      "An example of a sentence: ['pleasant', 'flavor', 'and', 'makes', 'your', 'mouth', 'feel', 'clean']\n"
     ]
    }
   ],
   "source": [
    "def clean_and_split_str(string):\n",
    "    strip_special_chars = re.compile(\"[^A-Za-z]+\")\n",
    "    string = re.sub(strip_special_chars, \" \", string)\n",
    "    return string.strip().lower().split()\n",
    "     \n",
    "# clean each raw sentences and build the list of sentences\n",
    "sentences = []\n",
    "for raw_sent in raw_sentences:\n",
    "    if len(raw_sent) > 0:\n",
    "        sentences.append(clean_and_split_str(raw_sent))\n",
    "print(\"We have {0:,} clean sentences\".format(len(sentences)))\n",
    "print(\"An example of a sentence:\", sentences[3])"
   ]
  },
  {
   "cell_type": "code",
   "execution_count": 306,
   "metadata": {},
   "outputs": [
    {
     "name": "stdout",
     "output_type": "stream",
     "text": [
      "The dataset corpus contains 756,248 tokens\n"
     ]
    }
   ],
   "source": [
    "token_count = sum([len(sentence) for sentence in sentences])\n",
    "print(\"The dataset corpus contains {0:,} tokens\".format(token_count))"
   ]
  },
  {
   "cell_type": "markdown",
   "metadata": {},
   "source": [
    "#### Train a Word2Vec Model"
   ]
  },
  {
   "cell_type": "code",
   "execution_count": 308,
   "metadata": {},
   "outputs": [],
   "source": [
    "import multiprocessing\n",
    "\n",
    "#Dimensionality of the resulting word vectors\n",
    "num_features = 300\n",
    " \n",
    "#Minimum word count threshold\n",
    "min_word_count = 3\n",
    " \n",
    "#Number of threads to run in parallel\n",
    "num_workers = multiprocessing.cpu_count()\n",
    " \n",
    "#Context window length\n",
    "context_size = 7\n",
    " \n",
    "#Seed for the RNG, to make the result reproducible\n",
    "seed = 1"
   ]
  },
  {
   "cell_type": "code",
   "execution_count": 318,
   "metadata": {},
   "outputs": [
    {
     "name": "stdout",
     "output_type": "stream",
     "text": [
      "The vocabulary is built\n",
      "Word2Vec vocabulary length:  5469\n"
     ]
    }
   ],
   "source": [
    "word2vec_model = Word2Vec(sentences = sentences,\n",
    "    sg=1,\n",
    "    seed=seed,\n",
    "    workers=num_workers, \n",
    "    size=num_features, \n",
    "    min_count=min_word_count, \n",
    "    window=context_size)\n",
    "     \n",
    "print(\"The vocabulary is built\")\n",
    "print(\"Word2Vec vocabulary length: \", len(word2vec_model.wv.index2word))"
   ]
  },
  {
   "cell_type": "code",
   "execution_count": 340,
   "metadata": {},
   "outputs": [
    {
     "name": "stderr",
     "output_type": "stream",
     "text": [
      "C:\\Users\\Yuting.Gong\\AppData\\Local\\Continuum\\anaconda3\\lib\\site-packages\\smart_open\\smart_open_lib.py:398: UserWarning: This function is deprecated, use smart_open.open instead. See the migration notes for details: https://github.com/RaRe-Technologies/smart_open/blob/master/README.rst#migrating-to-the-new-open-function\n",
      "  'See the migration notes for details: %s' % _MIGRATION_NOTES_URL\n"
     ]
    }
   ],
   "source": [
    "word2vec_model.save(\"amazon.model\")\n",
    "\n",
    "# model = Word2Vec.load(\"amazon.model\")"
   ]
  },
  {
   "cell_type": "markdown",
   "metadata": {},
   "source": [
    "#### Compute average vectors for each reviews\n",
    "Now we have a vector for each vocabulary. But in order to get a vector for a reveiw, we need to further processing. I chose to take an average vector of all words in a review as the vector of a review."
   ]
  },
  {
   "cell_type": "code",
   "execution_count": 344,
   "metadata": {},
   "outputs": [],
   "source": [
    "def averageVector(reviews, w2v):\n",
    "    total = []\n",
    "    lst = w2v.wv.index2word\n",
    "    for review in reviews:\n",
    "        avgVector = w2v.wv['i']*0\n",
    "        count = 0\n",
    "        empty = True\n",
    "        for word in review:\n",
    "            if word in lst:\n",
    "                count += 1\n",
    "                avgVector = np.add(avgVector, w2v.wv[word])\n",
    "                empty = False\n",
    "        if not empty:\n",
    "            avgVector = np.divide(avgVector, count)\n",
    "        total.append(avgVector)\n",
    "    return total"
   ]
  },
  {
   "cell_type": "code",
   "execution_count": 392,
   "metadata": {},
   "outputs": [],
   "source": [
    "allVectors2 = averageVector(tokens2, word2vec_model)"
   ]
  },
  {
   "cell_type": "code",
   "execution_count": 393,
   "metadata": {},
   "outputs": [
    {
     "data": {
      "text/plain": [
       "14852"
      ]
     },
     "execution_count": 393,
     "metadata": {},
     "output_type": "execute_result"
    }
   ],
   "source": [
    "len(allVectors2)"
   ]
  },
  {
   "cell_type": "markdown",
   "metadata": {},
   "source": [
    "## Train Test Split"
   ]
  },
  {
   "cell_type": "code",
   "execution_count": 394,
   "metadata": {},
   "outputs": [],
   "source": [
    "y2 = df2[\"rating_sentiment\"]\n",
    "X_train2, X_test2, y_train2, y_test2 = train_test_split(pd.DataFrame(allVectors2), y2, test_size=0.2, random_state=42, stratify = y2)"
   ]
  },
  {
   "cell_type": "markdown",
   "metadata": {},
   "source": [
    "# Fit average vectors to supervised learning algorithm:\n",
    "## SVM Classifier as a baseline model\n",
    "Clearly, SVM is not a good model for this problem. Its precision for positive class is very high but the precision for negative sentiments are super low."
   ]
  },
  {
   "cell_type": "code",
   "execution_count": 398,
   "metadata": {},
   "outputs": [
    {
     "data": {
      "text/plain": [
       "SVC(C=1.0, cache_size=200, class_weight='balanced', coef0=0.0,\n",
       "  decision_function_shape='ovr', degree=3, gamma='auto', kernel='rbf',\n",
       "  max_iter=-1, probability=False, random_state=None, shrinking=True,\n",
       "  tol=0.001, verbose=False)"
      ]
     },
     "execution_count": 398,
     "metadata": {},
     "output_type": "execute_result"
    }
   ],
   "source": [
    "svm2 = SVC(gamma='auto', class_weight = 'balanced')\n",
    "svm2.fit(X_train2, y_train2) "
   ]
  },
  {
   "cell_type": "code",
   "execution_count": 399,
   "metadata": {},
   "outputs": [],
   "source": [
    "y_pred_svm2 = svm2.predict(X_test2)"
   ]
  },
  {
   "cell_type": "code",
   "execution_count": 400,
   "metadata": {},
   "outputs": [
    {
     "data": {
      "text/plain": [
       "0.5435880175025244"
      ]
     },
     "execution_count": 400,
     "metadata": {},
     "output_type": "execute_result"
    }
   ],
   "source": [
    "accuracy_score(y_test2, y_pred_svm2)"
   ]
  },
  {
   "cell_type": "code",
   "execution_count": 401,
   "metadata": {
    "scrolled": false
   },
   "outputs": [
    {
     "name": "stdout",
     "output_type": "stream",
     "text": [
      "              precision    recall  f1-score   support\n",
      "\n",
      "    Negative       0.17      0.97      0.29       287\n",
      "    Positive       0.99      0.50      0.66      2684\n",
      "\n",
      "   micro avg       0.54      0.54      0.54      2971\n",
      "   macro avg       0.58      0.73      0.48      2971\n",
      "weighted avg       0.91      0.54      0.63      2971\n",
      "\n"
     ]
    }
   ],
   "source": [
    "print(classification_report(y_test2, y_pred_svm2))"
   ]
  },
  {
   "cell_type": "markdown",
   "metadata": {},
   "source": [
    "# Random Forest Classifier"
   ]
  },
  {
   "cell_type": "code",
   "execution_count": 395,
   "metadata": {},
   "outputs": [],
   "source": [
    "# Random Forest Classifier\n",
    "rf2 = RandomForestClassifier(n_estimators=100)\n",
    "rf2.fit(X_train2, y_train2)\n",
    "y_pred_rf2 = rf2.predict(X_test2)"
   ]
  },
  {
   "cell_type": "code",
   "execution_count": 396,
   "metadata": {},
   "outputs": [
    {
     "data": {
      "text/plain": [
       "0.9205654661730057"
      ]
     },
     "execution_count": 396,
     "metadata": {},
     "output_type": "execute_result"
    }
   ],
   "source": [
    "accuracy_score(y_test2, y_pred_rf2)"
   ]
  },
  {
   "cell_type": "code",
   "execution_count": 397,
   "metadata": {},
   "outputs": [
    {
     "name": "stdout",
     "output_type": "stream",
     "text": [
      "              precision    recall  f1-score   support\n",
      "\n",
      "    Negative       0.87      0.21      0.34       287\n",
      "    Positive       0.92      1.00      0.96      2684\n",
      "\n",
      "   micro avg       0.92      0.92      0.92      2971\n",
      "   macro avg       0.90      0.60      0.65      2971\n",
      "weighted avg       0.92      0.92      0.90      2971\n",
      "\n"
     ]
    }
   ],
   "source": [
    "print(classification_report(y_test2, y_pred_rf2))"
   ]
  },
  {
   "cell_type": "markdown",
   "metadata": {},
   "source": [
    "# XGBoost"
   ]
  },
  {
   "cell_type": "code",
   "execution_count": 406,
   "metadata": {},
   "outputs": [],
   "source": [
    "xgb_2 = XGBClassifier(n_estimators=600, objective= 'multi:softprob',learning_rate=0.05, max_depth=5, min_child_weight=3, num_class=2)"
   ]
  },
  {
   "cell_type": "code",
   "execution_count": 407,
   "metadata": {},
   "outputs": [
    {
     "data": {
      "text/plain": [
       "XGBClassifier(base_score=0.5, booster='gbtree', colsample_bylevel=1,\n",
       "       colsample_bynode=1, colsample_bytree=1, gamma=0, learning_rate=0.05,\n",
       "       max_delta_step=0, max_depth=5, min_child_weight=3, missing=None,\n",
       "       n_estimators=600, n_jobs=1, nthread=None, num_class=2,\n",
       "       objective='multi:softprob', random_state=0, reg_alpha=0,\n",
       "       reg_lambda=1, scale_pos_weight=1, seed=None, silent=None,\n",
       "       subsample=1, verbosity=1)"
      ]
     },
     "execution_count": 407,
     "metadata": {},
     "output_type": "execute_result"
    }
   ],
   "source": [
    "xgb_2.fit(X_train2, y_train2)"
   ]
  },
  {
   "cell_type": "code",
   "execution_count": 408,
   "metadata": {
    "scrolled": false
   },
   "outputs": [
    {
     "data": {
      "text/plain": [
       "0.9289801413665433"
      ]
     },
     "execution_count": 408,
     "metadata": {},
     "output_type": "execute_result"
    }
   ],
   "source": [
    "y_pred2 = xgb_2.predict(X_test2)\n",
    "accuracy_score(y_test2, y_pred2)"
   ]
  },
  {
   "cell_type": "code",
   "execution_count": 410,
   "metadata": {
    "scrolled": false
   },
   "outputs": [
    {
     "name": "stdout",
     "output_type": "stream",
     "text": [
      "              precision    recall  f1-score   support\n",
      "\n",
      "    Negative       0.75      0.40      0.52       287\n",
      "    Positive       0.94      0.99      0.96      2684\n",
      "\n",
      "   micro avg       0.93      0.93      0.93      2971\n",
      "   macro avg       0.84      0.69      0.74      2971\n",
      "weighted avg       0.92      0.93      0.92      2971\n",
      "\n"
     ]
    }
   ],
   "source": [
    "print(classification_report(y_test2, y_pred2))"
   ]
  },
  {
   "cell_type": "markdown",
   "metadata": {},
   "source": [
    "### XGBoost was better than Random Forest Classifier as it reached a 93% accuracy, and 92% weighted average F1 score, higher than random forest's 90% F1 score"
   ]
  },
  {
   "cell_type": "code",
   "execution_count": null,
   "metadata": {},
   "outputs": [],
   "source": []
  }
 ],
 "metadata": {
  "kernelspec": {
   "display_name": "Python 3",
   "language": "python",
   "name": "python3"
  },
  "language_info": {
   "codemirror_mode": {
    "name": "ipython",
    "version": 3
   },
   "file_extension": ".py",
   "mimetype": "text/x-python",
   "name": "python",
   "nbconvert_exporter": "python",
   "pygments_lexer": "ipython3",
   "version": "3.7.3"
  }
 },
 "nbformat": 4,
 "nbformat_minor": 2
}
